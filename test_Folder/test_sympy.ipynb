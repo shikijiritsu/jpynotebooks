{
 "cells": [
  {
   "cell_type": "code",
   "execution_count": 1,
   "metadata": {},
   "outputs": [
    {
     "name": "stdout",
     "output_type": "stream",
     "text": [
      "(x + y)**2\n"
     ]
    },
    {
     "data": {
      "image/png": "[encoded data removed]",
      "text/latex": [
       "$$\\left(x + y\\right)^{2}$$"
      ],
      "text/plain": [
       "       2\n",
       "(x + y) "
      ]
     },
     "execution_count": 1,
     "metadata": {},
     "output_type": "execute_result"
    }
   ],
   "source": [
    "%matplotlib inline\n",
    "from sympy import *\n",
    "\n",
    "init_printing()\n",
    "x, y = symbols('x y')\n",
    "\n",
    "e = (x + y)**2\n",
    "e # not shown\n",
    "print(e)\n",
    "e # shown only placed at last"
   ]
  },
  {
   "cell_type": "code",
   "execution_count": 2,
   "metadata": {},
   "outputs": [
    {
     "data": {
      "image/png": "[encoded data removed]",
      "text/latex": [
       "$$x^{2} + 2 x y + y^{2}$$"
      ],
      "text/plain": [
       " 2            2\n",
       "x  + 2⋅x⋅y + y "
      ]
     },
     "execution_count": 2,
     "metadata": {},
     "output_type": "execute_result"
    }
   ],
   "source": [
    "expand(e)"
   ]
  },
  {
   "cell_type": "code",
   "execution_count": 3,
   "metadata": {},
   "outputs": [
    {
     "data": {
      "image/png": "[encoded data removed]",
      "text/latex": [
       "$$\\log{\\left (y \\right )} \\cos{\\left (x \\right )} + \\frac{2}{y}$$"
      ],
      "text/plain": [
       "                2\n",
       "log(y)⋅cos(x) + ─\n",
       "                y"
      ]
     },
     "execution_count": 3,
     "metadata": {},
     "output_type": "execute_result"
    }
   ],
   "source": [
    "e = cos(x)*log(y)+2/y\n",
    "e"
   ]
  },
  {
   "cell_type": "code",
   "execution_count": 4,
   "metadata": {},
   "outputs": [
    {
     "data": {
      "image/png": "[encoded data removed]",
      "text/latex": [
       "$$\\left [ - \\operatorname{acos}{\\left (- \\frac{2}{y \\log{\\left (y \\right )}} \\right )} + 2 \\pi, \\quad \\operatorname{acos}{\\left (- \\frac{2}{y \\log{\\left (y \\right )}} \\right )}\\right ]$$"
      ],
      "text/plain": [
       "⎡      ⎛  -2    ⎞            ⎛  -2    ⎞⎤\n",
       "⎢- acos⎜────────⎟ + 2⋅π, acos⎜────────⎟⎥\n",
       "⎣      ⎝y⋅log(y)⎠            ⎝y⋅log(y)⎠⎦"
      ]
     },
     "execution_count": 4,
     "metadata": {},
     "output_type": "execute_result"
    }
   ],
   "source": [
    "solve(e, x)"
   ]
  },
  {
   "cell_type": "markdown",
   "metadata": {},
   "source": [
    "## Pauli"
   ]
  },
  {
   "cell_type": "code",
   "execution_count": 5,
   "metadata": {},
   "outputs": [
    {
     "data": {
      "text/latex": [
       "$$\\left ( \\left[\\begin{matrix}1 & 0\\\\0 & 1\\end{matrix}\\right], \\quad \\left[\\begin{matrix}0 & 1\\\\1 & 0\\end{matrix}\\right], \\quad \\left[\\begin{matrix}0 & - j\\\\j & 0\\end{matrix}\\right], \\quad \\left[\\begin{matrix}1 & 0\\\\0 & -1\\end{matrix}\\right]\\right )$$"
      ],
      "text/plain": [
       "⎛⎡1  0⎤  ⎡0  1⎤  ⎡0  -j⎤  ⎡1  0 ⎤⎞\n",
       "⎜⎢    ⎥, ⎢    ⎥, ⎢     ⎥, ⎢     ⎥⎟\n",
       "⎝⎣0  1⎦  ⎣1  0⎦  ⎣j  0 ⎦  ⎣0  -1⎦⎠"
      ]
     },
     "execution_count": 5,
     "metadata": {},
     "output_type": "execute_result"
    }
   ],
   "source": [
    "j = Symbol('j')\n",
    "p0 = eye(2) # Matrix([[1, 0], [0, 1]])\n",
    "p1 = Matrix([[0, 1], [1, 0]])\n",
    "p2 = Matrix([[0, -j], [j, 0]])\n",
    "p3 = Matrix([[1, 0], [0, -1]])\n",
    "p0, p1, p2, p3 # Pauli"
   ]
  },
  {
   "cell_type": "markdown",
   "metadata": {},
   "source": [
    "## Quaternion"
   ]
  },
  {
   "cell_type": "code",
   "execution_count": 6,
   "metadata": {},
   "outputs": [
    {
     "data": {
      "text/latex": [
       "$$\\left ( \\left[\\begin{matrix}1 & 0\\\\0 & 1\\end{matrix}\\right], \\quad \\left[\\begin{matrix}0 & - i\\\\- i & 0\\end{matrix}\\right], \\quad \\left[\\begin{matrix}0 & i j\\\\- i j & 0\\end{matrix}\\right], \\quad \\left[\\begin{matrix}- i & 0\\\\0 & i\\end{matrix}\\right]\\right )$$"
      ],
      "text/plain": [
       "⎛⎡1  0⎤  ⎡0   -ⅈ⎤  ⎡ 0    ⅈ⋅j⎤  ⎡-ⅈ  0⎤⎞\n",
       "⎜⎢    ⎥, ⎢      ⎥, ⎢         ⎥, ⎢     ⎥⎟\n",
       "⎝⎣0  1⎦  ⎣-ⅈ  0 ⎦  ⎣-ⅈ⋅j   0 ⎦  ⎣0   ⅈ⎦⎠"
      ]
     },
     "execution_count": 6,
     "metadata": {},
     "output_type": "execute_result"
    }
   ],
   "source": [
    "p0, p1*-I, p2*-I, p3*-I # q"
   ]
  },
  {
   "cell_type": "code",
   "execution_count": 7,
   "metadata": {},
   "outputs": [
    {
     "data": {
      "text/latex": [
       "$$\\left ( \\left[\\begin{matrix}1 & 0\\\\0 & 1\\end{matrix}\\right], \\quad \\left[\\begin{matrix}0 & - i\\\\- i & 0\\end{matrix}\\right], \\quad \\left[\\begin{matrix}0 & i j\\\\- i j & 0\\end{matrix}\\right], \\quad \\left[\\begin{matrix}- i & 0\\\\0 & i\\end{matrix}\\right]\\right )$$"
      ],
      "text/plain": [
       "⎛⎡1  0⎤  ⎡0   -ⅈ⎤  ⎡ 0    ⅈ⋅j⎤  ⎡-ⅈ  0⎤⎞\n",
       "⎜⎢    ⎥, ⎢      ⎥, ⎢         ⎥, ⎢     ⎥⎟\n",
       "⎝⎣0  1⎦  ⎣-ⅈ  0 ⎦  ⎣-ⅈ⋅j   0 ⎦  ⎣0   ⅈ⎦⎠"
      ]
     },
     "execution_count": 7,
     "metadata": {},
     "output_type": "execute_result"
    }
   ],
   "source": [
    "(p0, p1*-I, p2*-I, p3*-I) # q"
   ]
  },
  {
   "cell_type": "code",
   "execution_count": 8,
   "metadata": {},
   "outputs": [
    {
     "data": {
      "text/latex": [
       "$$\\left [ \\left[\\begin{matrix}1 & 0\\\\0 & 1\\end{matrix}\\right], \\quad \\left[\\begin{matrix}0 & - i\\\\- i & 0\\end{matrix}\\right], \\quad \\left[\\begin{matrix}0 & -1\\\\1 & 0\\end{matrix}\\right], \\quad \\left[\\begin{matrix}- i & 0\\\\0 & i\\end{matrix}\\right]\\right ]$$"
      ],
      "text/plain": [
       "⎡⎡1  0⎤  ⎡0   -ⅈ⎤  ⎡0  -1⎤  ⎡-ⅈ  0⎤⎤\n",
       "⎢⎢    ⎥, ⎢      ⎥, ⎢     ⎥, ⎢     ⎥⎥\n",
       "⎣⎣0  1⎦  ⎣-ⅈ  0 ⎦  ⎣1  0 ⎦  ⎣0   ⅈ⎦⎦"
      ]
     },
     "execution_count": 8,
     "metadata": {},
     "output_type": "execute_result"
    }
   ],
   "source": [
    "[_.subs(j, I) for _ in (p0, p1*-I, p2*-I, p3*-I)] # Quaternion"
   ]
  },
  {
   "cell_type": "code",
   "execution_count": 9,
   "metadata": {},
   "outputs": [
    {
     "data": {
      "text/latex": [
       "$$\\left ( \\left[\\begin{matrix}1 & 0\\\\0 & 1\\end{matrix}\\right], \\quad \\left[\\begin{matrix}0 & - i\\\\- i & 0\\end{matrix}\\right], \\quad \\left[\\begin{matrix}0 & -1\\\\1 & 0\\end{matrix}\\right], \\quad \\left[\\begin{matrix}- i & 0\\\\0 & i\\end{matrix}\\right]\\right )$$"
      ],
      "text/plain": [
       "⎛⎡1  0⎤  ⎡0   -ⅈ⎤  ⎡0  -1⎤  ⎡-ⅈ  0⎤⎞\n",
       "⎜⎢    ⎥, ⎢      ⎥, ⎢     ⎥, ⎢     ⎥⎟\n",
       "⎝⎣0  1⎦  ⎣-ⅈ  0 ⎦  ⎣1  0 ⎦  ⎣0   ⅈ⎦⎠"
      ]
     },
     "execution_count": 9,
     "metadata": {},
     "output_type": "execute_result"
    }
   ],
   "source": [
    "tuple(_.subs(j, I) for _ in (p0, p1*-I, p2*-I, p3*-I)) # Quaternion"
   ]
  },
  {
   "cell_type": "code",
   "execution_count": 10,
   "metadata": {},
   "outputs": [
    {
     "data": {
      "text/latex": [
       "$$- i \\left ( \\left[\\begin{matrix}0 & 1\\\\1 & 0\\end{matrix}\\right], \\quad \\left[\\begin{matrix}0 & - j\\\\j & 0\\end{matrix}\\right], \\quad \\left[\\begin{matrix}1 & 0\\\\0 & -1\\end{matrix}\\right]\\right )$$"
      ],
      "text/plain": [
       "   ⎛⎡0  1⎤  ⎡0  -j⎤  ⎡1  0 ⎤⎞\n",
       "-ⅈ⋅⎜⎢    ⎥, ⎢     ⎥, ⎢     ⎥⎟\n",
       "   ⎝⎣1  0⎦  ⎣j  0 ⎦  ⎣0  -1⎦⎠"
      ]
     },
     "execution_count": 10,
     "metadata": {},
     "output_type": "execute_result"
    }
   ],
   "source": [
    "(p1, p2, p3)*-I # q"
   ]
  },
  {
   "cell_type": "code",
   "execution_count": 11,
   "metadata": {},
   "outputs": [
    {
     "data": {
      "text/latex": [
       "$$- i \\left ( \\left[\\begin{matrix}0 & 1\\\\1 & 0\\end{matrix}\\right], \\quad \\left[\\begin{matrix}0 & - i\\\\i & 0\\end{matrix}\\right], \\quad \\left[\\begin{matrix}1 & 0\\\\0 & -1\\end{matrix}\\right]\\right )$$"
      ],
      "text/plain": [
       "   ⎛⎡0  1⎤  ⎡0  -ⅈ⎤  ⎡1  0 ⎤⎞\n",
       "-ⅈ⋅⎜⎢    ⎥, ⎢     ⎥, ⎢     ⎥⎟\n",
       "   ⎝⎣1  0⎦  ⎣ⅈ  0 ⎦  ⎣0  -1⎦⎠"
      ]
     },
     "execution_count": 11,
     "metadata": {},
     "output_type": "execute_result"
    }
   ],
   "source": [
    "((p1, p2, p3)*-I).subs(j, I) # q"
   ]
  },
  {
   "cell_type": "code",
   "execution_count": 12,
   "metadata": {},
   "outputs": [
    {
     "data": {
      "text/latex": [
       "$$- i \\left ( \\left[\\begin{matrix}0 & 1\\\\1 & 0\\end{matrix}\\right], \\quad \\left[\\begin{matrix}0 & - i\\\\i & 0\\end{matrix}\\right], \\quad \\left[\\begin{matrix}1 & 0\\\\0 & -1\\end{matrix}\\right]\\right )$$"
      ],
      "text/plain": [
       "   ⎛⎡0  1⎤  ⎡0  -ⅈ⎤  ⎡1  0 ⎤⎞\n",
       "-ⅈ⋅⎜⎢    ⎥, ⎢     ⎥, ⎢     ⎥⎟\n",
       "   ⎝⎣1  0⎦  ⎣ⅈ  0 ⎦  ⎣0  -1⎦⎠"
      ]
     },
     "execution_count": 12,
     "metadata": {},
     "output_type": "execute_result"
    }
   ],
   "source": [
    "expand((p1, p2, p3)*-I).subs(j, I) # q"
   ]
  },
  {
   "cell_type": "code",
   "execution_count": 13,
   "metadata": {},
   "outputs": [
    {
     "data": {
      "text/latex": [
       "$$\\left[\\begin{matrix}\\left[\\begin{matrix}0 & - i\\\\- i & 0\\end{matrix}\\right] & \\left[\\begin{matrix}0 & -1\\\\1 & 0\\end{matrix}\\right] & \\left[\\begin{matrix}- i & 0\\\\0 & i\\end{matrix}\\right]\\end{matrix}\\right]$$"
      ],
      "text/plain": [
       "⎡⎡0   -ⅈ⎤  ⎡0  -1⎤  ⎡-ⅈ  0⎤⎤\n",
       "⎢⎢      ⎥  ⎢     ⎥  ⎢     ⎥⎥\n",
       "⎣⎣-ⅈ  0 ⎦  ⎣1  0 ⎦  ⎣0   ⅈ⎦⎦"
      ]
     },
     "execution_count": 13,
     "metadata": {},
     "output_type": "execute_result"
    }
   ],
   "source": [
    "(Matrix([[p1, p2, p3]])*-I).subs(j, I) # Quaternion"
   ]
  },
  {
   "cell_type": "markdown",
   "metadata": {},
   "source": [
    "## 積の順"
   ]
  },
  {
   "cell_type": "code",
   "execution_count": 14,
   "metadata": {},
   "outputs": [
    {
     "data": {
      "text/latex": [
       "$$\\left ( \\left ( \\left[\\begin{matrix}- i & 0\\\\0 & i\\end{matrix}\\right], \\quad \\left[\\begin{matrix}0 & - i\\\\- i & 0\\end{matrix}\\right], \\quad \\left[\\begin{matrix}0 & -1\\\\1 & 0\\end{matrix}\\right]\\right ), \\quad \\left ( \\left[\\begin{matrix}- i & 0\\\\0 & i\\end{matrix}\\right], \\quad \\left[\\begin{matrix}0 & - i\\\\- i & 0\\end{matrix}\\right], \\quad \\left[\\begin{matrix}0 & -1\\\\1 & 0\\end{matrix}\\right]\\right )\\right )$$"
      ],
      "text/plain": [
       "⎛⎛⎡-ⅈ  0⎤  ⎡0   -ⅈ⎤  ⎡0  -1⎤⎞  ⎛⎡-ⅈ  0⎤  ⎡0   -ⅈ⎤  ⎡0  -1⎤⎞⎞\n",
       "⎜⎜⎢     ⎥, ⎢      ⎥, ⎢     ⎥⎟, ⎜⎢     ⎥, ⎢      ⎥, ⎢     ⎥⎟⎟\n",
       "⎝⎝⎣0   ⅈ⎦  ⎣-ⅈ  0 ⎦  ⎣1  0 ⎦⎠  ⎝⎣0   ⅈ⎦  ⎣-ⅈ  0 ⎦  ⎣1  0 ⎦⎠⎠"
      ]
     },
     "execution_count": 14,
     "metadata": {},
     "output_type": "execute_result"
    }
   ],
   "source": [
    "qi, qj, qk = (Matrix([[p1, p2, p3]])*-I).subs(j, I) # Quaternion\n",
    "(qi * qj, qj * qk, qk * qi), (qk, qi, qj)"
   ]
  },
  {
   "cell_type": "code",
   "execution_count": 15,
   "metadata": {},
   "outputs": [
    {
     "data": {
      "text/latex": [
       "$$\\left ( \\left[\\begin{matrix}0 & 0\\\\0 & 0\\end{matrix}\\right], \\quad \\left[\\begin{matrix}0 & 0\\\\0 & 0\\end{matrix}\\right], \\quad \\left[\\begin{matrix}0 & 0\\\\0 & 0\\end{matrix}\\right]\\right )$$"
      ],
      "text/plain": [
       "⎛⎡0  0⎤  ⎡0  0⎤  ⎡0  0⎤⎞\n",
       "⎜⎢    ⎥, ⎢    ⎥, ⎢    ⎥⎟\n",
       "⎝⎣0  0⎦  ⎣0  0⎦  ⎣0  0⎦⎠"
      ]
     },
     "execution_count": 15,
     "metadata": {},
     "output_type": "execute_result"
    }
   ],
   "source": [
    "qi * qj - qk, qj * qk - qi, qk * qi - qj"
   ]
  },
  {
   "cell_type": "code",
   "execution_count": 16,
   "metadata": {},
   "outputs": [
    {
     "data": {
      "text/latex": [
       "$$\\left ( \\left ( \\left[\\begin{matrix}i & 0\\\\0 & - i\\end{matrix}\\right], \\quad \\left[\\begin{matrix}0 & i\\\\i & 0\\end{matrix}\\right], \\quad \\left[\\begin{matrix}0 & 1\\\\-1 & 0\\end{matrix}\\right]\\right ), \\quad \\left ( \\left[\\begin{matrix}i & 0\\\\0 & - i\\end{matrix}\\right], \\quad \\left[\\begin{matrix}0 & i\\\\i & 0\\end{matrix}\\right], \\quad \\left[\\begin{matrix}0 & 1\\\\-1 & 0\\end{matrix}\\right]\\right )\\right )$$"
      ],
      "text/plain": [
       "⎛⎛⎡ⅈ  0 ⎤  ⎡0  ⅈ⎤  ⎡0   1⎤⎞  ⎛⎡ⅈ  0 ⎤  ⎡0  ⅈ⎤  ⎡0   1⎤⎞⎞\n",
       "⎜⎜⎢     ⎥, ⎢    ⎥, ⎢     ⎥⎟, ⎜⎢     ⎥, ⎢    ⎥, ⎢     ⎥⎟⎟\n",
       "⎝⎝⎣0  -ⅈ⎦  ⎣ⅈ  0⎦  ⎣-1  0⎦⎠  ⎝⎣0  -ⅈ⎦  ⎣ⅈ  0⎦  ⎣-1  0⎦⎠⎠"
      ]
     },
     "execution_count": 16,
     "metadata": {},
     "output_type": "execute_result"
    }
   ],
   "source": [
    "(qj * qi, qk * qj, qi * qk), (-qk, -qi, -qj)"
   ]
  },
  {
   "cell_type": "code",
   "execution_count": 17,
   "metadata": {},
   "outputs": [
    {
     "data": {
      "text/latex": [
       "$$\\left[\\begin{matrix}\\left[\\begin{matrix}1 & 0\\\\0 & 1\\end{matrix}\\right] & \\left[\\begin{matrix}1 & 0\\\\0 & 1\\end{matrix}\\right] & \\left[\\begin{matrix}1 & 0\\\\0 & 1\\end{matrix}\\right]\\end{matrix}\\right]$$"
      ],
      "text/plain": [
       "⎡⎡1  0⎤  ⎡1  0⎤  ⎡1  0⎤⎤\n",
       "⎢⎢    ⎥  ⎢    ⎥  ⎢    ⎥⎥\n",
       "⎣⎣0  1⎦  ⎣0  1⎦  ⎣0  1⎦⎦"
      ]
     },
     "execution_count": 17,
     "metadata": {},
     "output_type": "execute_result"
    }
   ],
   "source": [
    "Matrix([[qi * qj * qk, qj * qk * qi, qk * qi * qj]]) * -1"
   ]
  },
  {
   "cell_type": "markdown",
   "metadata": {},
   "source": [
    "## 内積テスト"
   ]
  },
  {
   "cell_type": "code",
   "execution_count": 18,
   "metadata": {},
   "outputs": [
    {
     "data": {
      "text/latex": [
       "$$\\left ( \\left[\\begin{matrix}1 & 2 & 3\\end{matrix}\\right], \\quad \\left[\\begin{matrix}4\\\\5\\\\6\\end{matrix}\\right], \\quad \\left[\\begin{matrix}32\\end{matrix}\\right]\\right )$$"
      ],
      "text/plain": [
       "⎛           ⎡4⎤      ⎞\n",
       "⎜           ⎢ ⎥      ⎟\n",
       "⎜[1  2  3], ⎢5⎥, [32]⎟\n",
       "⎜           ⎢ ⎥      ⎟\n",
       "⎝           ⎣6⎦      ⎠"
      ]
     },
     "execution_count": 18,
     "metadata": {},
     "output_type": "execute_result"
    }
   ],
   "source": [
    "A, B = Matrix([[1, 2, 3]]), Matrix([[4, 5, 6]]).T\n",
    "A, B, A * B"
   ]
  },
  {
   "cell_type": "code",
   "execution_count": 19,
   "metadata": {},
   "outputs": [
    {
     "data": {
      "text/latex": [
       "$$\\left ( \\left[\\begin{matrix}1 & 2 & 3\\end{matrix}\\right], \\quad \\left[\\begin{matrix}4\\\\5\\\\6\\end{matrix}\\right], \\quad \\left[\\begin{matrix}32\\end{matrix}\\right]\\right )$$"
      ],
      "text/plain": [
       "⎛           ⎡4⎤      ⎞\n",
       "⎜           ⎢ ⎥      ⎟\n",
       "⎜[1  2  3], ⎢5⎥, [32]⎟\n",
       "⎜           ⎢ ⎥      ⎟\n",
       "⎝           ⎣6⎦      ⎠"
      ]
     },
     "execution_count": 19,
     "metadata": {},
     "output_type": "execute_result"
    }
   ],
   "source": [
    "A, B = Matrix([1, 2, 3]).T, Matrix([4, 5, 6])\n",
    "A, B, A * B"
   ]
  }
 ],
 "metadata": {
  "kernelspec": {
   "display_name": "Python 3",
   "language": "python",
   "name": "python3"
  },
  "language_info": {
   "codemirror_mode": {
    "name": "ipython",
    "version": 3
   },
   "file_extension": ".py",
   "mimetype": "text/x-python",
   "name": "python",
   "nbconvert_exporter": "python",
   "pygments_lexer": "ipython3",
   "version": "3.6.2"
  }
 },
 "nbformat": 4,
 "nbformat_minor": 2
}
