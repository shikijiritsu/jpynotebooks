{
 "cells": [
  {
   "cell_type": "code",
   "execution_count": 1,
   "metadata": {},
   "outputs": [
    {
     "name": "stdout",
     "output_type": "stream",
     "text": [
      "{}\n",
      "C:\\Users\\ClaudiaAzure\\.ipython\n",
      "C:\\Users\\ClaudiaAzure\\.ipython\n",
      "__main__\n",
      "C:\\prj\\jpynotebooks\\test_Folder\n",
      "206484\n",
      "[('C:\\\\prj\\\\jpynotebooks', 193768)]\n",
      "{'__module__': 'notebook.services.config.manager', '__doc__': 'Config Manager used for storing notebook frontend config', 'get': <function ConfigManager.get at 0x00000270804F2950>, 'set': <function ConfigManager.set at 0x00000270804F29D8>, 'update': <function ConfigManager.update at 0x00000270804F2A60>, 'read_config_path': <traitlets.traitlets.List object at 0x00000270804F7390>, '_default_read_config_path': <traitlets.traitlets.DefaultHandler object at 0x00000270804F73C8>, 'write_config_dir': <traitlets.traitlets.Unicode object at 0x00000270804F7438>, '_default_write_config_dir': <traitlets.traitlets.DefaultHandler object at 0x00000270804F7470>, 'write_config_manager': <traitlets.traitlets.Instance object at 0x00000270804F74A8>, '_default_write_config_manager': <traitlets.traitlets.DefaultHandler object at 0x00000270804F74E0>, '_update_write_config_dir': <traitlets.traitlets.ObserveHandler object at 0x00000270804F7518>, '_trait_default_generators': {'read_config_path': <traitlets.traitlets.DefaultHandler object at 0x00000270804F73C8>, 'write_config_dir': <traitlets.traitlets.DefaultHandler object at 0x00000270804F7470>, 'write_config_manager': <traitlets.traitlets.DefaultHandler object at 0x00000270804F74E0>}}\n",
      "{'__module__': 'traitlets.config.loader', '__doc__': 'An attribute based dict that can do smart merges.', '__init__': <function Config.__init__ at 0x00000270FE1731E0>, '_ensure_subconfig': <function Config._ensure_subconfig at 0x00000270FE173268>, '_merge': <function Config._merge at 0x00000270FE1732F0>, 'merge': <function Config.merge at 0x00000270FE173378>, 'collisions': <function Config.collisions at 0x00000270FE173400>, '__contains__': <function Config.__contains__ at 0x00000270FE173488>, 'has_key': <function Config.__contains__ at 0x00000270FE173488>, '_has_section': <function Config._has_section at 0x00000270FE173510>, 'copy': <function Config.copy at 0x00000270FE173598>, '__copy__': <function Config.__copy__ at 0x00000270FE173620>, '__deepcopy__': <function Config.__deepcopy__ at 0x00000270FE1736A8>, '__getitem__': <function Config.__getitem__ at 0x00000270FE173730>, '__setitem__': <function Config.__setitem__ at 0x00000270FE1737B8>, '__getattr__': <function Config.__getattr__ at 0x00000270FE173840>, '__setattr__': <function Config.__setattr__ at 0x00000270FE1738C8>, '__delattr__': <function Config.__delattr__ at 0x00000270FE173950>, '__dict__': <attribute '__dict__' of 'Config' objects>, '__weakref__': <attribute '__weakref__' of 'Config' objects>}\n",
      "C:\\Users\\ClaudiaAzure\\AppData\\Roaming\\jupyter\\runtime\n",
      "NotebookApp.notebook_dir\n",
      "{'help': 'The directory to use for notebooks and kernels.', 'metadata': {'config': True, 'help': 'The directory to use for notebooks and kernels.'}, 'this_class': <class 'notebook.notebookapp.NotebookApp'>, 'name': 'notebook_dir'}\n",
      "{'help': 'The directory to use for notebooks and kernels.', 'metadata': {'config': True, 'help': 'The directory to use for notebooks and kernels.'}, 'this_class': <class 'notebook.notebookapp.NotebookApp'>, 'name': 'notebook_dir'}\n"
     ]
    }
   ],
   "source": [
    "##c = get_config()\n",
    "#%config\n",
    "#%config AliasManager\n",
    "## AliasManager, DisplayFormatter, HistoryManager, IPCompleter, IPKernelApp\n",
    "## LoggingMagics, MagicsManager, PrefilterManager, ScriptMagics, StoreMagics, ZMQInteractiveShell\n",
    "p = %config ScriptMagics.script_paths\n",
    "print(p)\n",
    "i = %config IPKernelApp.ipython_dir\n",
    "print(i)\n",
    "##n = %config NotebookApp.notebook_dir\n",
    "##print(n)\n",
    "##%config NotebookApp\n",
    "##%config InteractiveShellApp\n",
    "z = %config ZMQInteractiveShell.ipython_dir\n",
    "print(z)\n",
    "\n",
    "#print(__file__) # not exist for interactive mode\n",
    "print(__name__)\n",
    "\n",
    "import sys, os\n",
    "print(os.getcwd())\n",
    "print(os.getpid())\n",
    "\n",
    "from notebook import notebookapp\n",
    "B_URL = 'http://localhost:8888/'\n",
    "dirs = [(svr['notebook_dir'],svr['pid']) for svr in notebookapp.list_running_servers() if svr['url'] == B_URL]\n",
    "print(dirs)\n",
    "#print(notebookapp.notebook_info())\n",
    "#print(notebookapp.server_info())\n",
    "\n",
    "#import notebook\n",
    "#from notebook import base\n",
    "from notebook import services\n",
    "scm = services.config.manager.ConfigManager\n",
    "print(scm.__dict__)\n",
    "\n",
    "from notebook import notebookapp\n",
    "nac = notebookapp.Config\n",
    "print(nac.__dict__)\n",
    "\n",
    "print(notebookapp.jupyter_runtime_dir())\n",
    "print(notebookapp.aliases['notebook-dir'])\n",
    "print(notebookapp.NotebookApp.notebook_dir.__dict__)\n",
    "\n",
    "from notebook.notebookapp import NotebookApp\n",
    "print(NotebookApp.notebook_dir.__dict__)\n"
   ]
  },
  {
   "cell_type": "code",
   "execution_count": 2,
   "metadata": {},
   "outputs": [
    {
     "data": {
      "text/plain": [
       "'C:\\\\prj\\\\jpynotebooks\\\\test_Folder'"
      ]
     },
     "execution_count": 2,
     "metadata": {},
     "output_type": "execute_result"
    }
   ],
   "source": [
    "%pwd"
   ]
  },
  {
   "cell_type": "code",
   "execution_count": 3,
   "metadata": {},
   "outputs": [
    {
     "name": "stdout",
     "output_type": "stream",
     "text": [
      "Created `%whereami` as an alias for `%pwd`.\n"
     ]
    },
    {
     "data": {
      "text/plain": [
       "'C:\\\\prj\\\\jpynotebooks\\\\test_Folder'"
      ]
     },
     "execution_count": 3,
     "metadata": {},
     "output_type": "execute_result"
    }
   ],
   "source": [
    "%alias_magic --line whereami pwd\n",
    "%whereami"
   ]
  }
 ],
 "metadata": {
  "kernelspec": {
   "display_name": "Python 3",
   "language": "python",
   "name": "python3"
  },
  "language_info": {
   "codemirror_mode": {
    "name": "ipython",
    "version": 3
   },
   "file_extension": ".py",
   "mimetype": "text/x-python",
   "name": "python",
   "nbconvert_exporter": "python",
   "pygments_lexer": "ipython3",
   "version": "3.6.2"
  }
 },
 "nbformat": 4,
 "nbformat_minor": 2
}
