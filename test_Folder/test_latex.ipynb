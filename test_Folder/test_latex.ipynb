{
 "cells": [
  {
   "cell_type": "code",
   "execution_count": 1,
   "metadata": {},
   "outputs": [
    {
     "name": "stdout",
     "output_type": "stream",
     "text": [
      "['', 'D:\\\\ProgramData\\\\Anaconda3\\\\envs\\\\jupyter-env\\\\python36.zip', 'D:\\\\ProgramData\\\\Anaconda3\\\\envs\\\\jupyter-env\\\\DLLs', 'D:\\\\ProgramData\\\\Anaconda3\\\\envs\\\\jupyter-env\\\\lib', 'D:\\\\ProgramData\\\\Anaconda3\\\\envs\\\\jupyter-env', 'D:\\\\ProgramData\\\\Anaconda3\\\\envs\\\\jupyter-env\\\\lib\\\\site-packages', 'D:\\\\ProgramData\\\\Anaconda3\\\\envs\\\\jupyter-env\\\\lib\\\\site-packages\\\\IPython\\\\extensions', 'C:\\\\Users\\\\ClaudiaAzure\\\\.ipython', 'C:\\\\prj\\\\jpynotebooks']\n",
      "0.0.3\n",
      "1.0.1\n",
      "C:\\prj\\jpynotebooks\n"
     ]
    }
   ],
   "source": [
    "import sys, os\n",
    "import ipynbutl\n",
    "import ipynblatex\n",
    "\n",
    "print(sys.path)\n",
    "print(ipynbutl.__version__)\n",
    "print(ipynblatex.__version__)\n",
    "print(ipynbutl.ipynb_dir)"
   ]
  },
  {
   "cell_type": "code",
   "execution_count": 2,
   "metadata": {},
   "outputs": [
    {
     "data": {
      "text/latex": [
       "$$LaTeX$$"
      ],
      "text/plain": [
       "<IPython.core.display.Math object>"
      ]
     },
     "metadata": {},
     "output_type": "display_data"
    }
   ],
   "source": [
    "jn = ipynblatex.ipynbLatex()\n",
    "jn.setexpr('LaTeX')\n",
    "jn.display()"
   ]
  }
 ],
 "metadata": {
  "kernelspec": {
   "display_name": "Python 3",
   "language": "python",
   "name": "python3"
  },
  "language_info": {
   "codemirror_mode": {
    "name": "ipython",
    "version": 3
   },
   "file_extension": ".py",
   "mimetype": "text/x-python",
   "name": "python",
   "nbconvert_exporter": "python",
   "pygments_lexer": "ipython3",
   "version": "3.6.2"
  }
 },
 "nbformat": 4,
 "nbformat_minor": 2
}
