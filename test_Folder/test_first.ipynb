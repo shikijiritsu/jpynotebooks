{
 "cells": [
  {
   "cell_type": "code",
   "execution_count": 1,
   "metadata": {},
   "outputs": [
    {
     "name": "stdout",
     "output_type": "stream",
     "text": [
      "['', 'D:\\\\ProgramData\\\\Anaconda3\\\\envs\\\\jupyter-env\\\\python36.zip', 'D:\\\\ProgramData\\\\Anaconda3\\\\envs\\\\jupyter-env\\\\DLLs', 'D:\\\\ProgramData\\\\Anaconda3\\\\envs\\\\jupyter-env\\\\lib', 'D:\\\\ProgramData\\\\Anaconda3\\\\envs\\\\jupyter-env', 'D:\\\\ProgramData\\\\Anaconda3\\\\envs\\\\jupyter-env\\\\lib\\\\site-packages', 'D:\\\\ProgramData\\\\Anaconda3\\\\envs\\\\jupyter-env\\\\lib\\\\site-packages\\\\IPython\\\\extensions', 'C:\\\\Users\\\\ClaudiaAzure\\\\.ipython']\n"
     ]
    }
   ],
   "source": [
    "import sys, os\n",
    "print(sys.path)"
   ]
  },
  {
   "cell_type": "markdown",
   "metadata": {
    "collapsed": true
   },
   "source": [
    "test\n",
    "====\n",
    "\n",
    "# test\n",
    "\n",
    "$$\n",
    "\\begin{align}\n",
    "\\sum_{k=1}^{\\infty} \\frac{1}{k^2} = \\frac{\\pi^2}{6}\n",
    "\\end{align}\n",
    "$$"
   ]
  }
 ],
 "metadata": {
  "kernelspec": {
   "display_name": "Python 3",
   "language": "python",
   "name": "python3"
  },
  "language_info": {
   "codemirror_mode": {
    "name": "ipython",
    "version": 3
   },
   "file_extension": ".py",
   "mimetype": "text/x-python",
   "name": "python",
   "nbconvert_exporter": "python",
   "pygments_lexer": "ipython3",
   "version": "3.6.2"
  }
 },
 "nbformat": 4,
 "nbformat_minor": 2
}
