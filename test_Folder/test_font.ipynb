{
 "cells": [
  {
   "cell_type": "code",
   "execution_count": 1,
   "metadata": {},
   "outputs": [
    {
     "data": {
      "image/png": "[encoded data removed]",
      "text/plain": [
       "<matplotlib.figure.Figure at 0x2047cebe828>"
      ]
     },
     "metadata": {},
     "output_type": "display_data"
    }
   ],
   "source": [
    "import sys, os\n",
    "import numpy as np\n",
    "from matplotlib import pyplot as plt\n",
    "#from matplotlib import pyplot as plt, font_managerm\n",
    "#from matplotlib import pyplot as plt, rcParams\n",
    "\n",
    "'''\n",
    "from matplotlib import matplotlib_fname\n",
    "print(matplotlib_fname())\n",
    "#add to ~/.matplotlib/matplotlibrc\n",
    ">backend      : qt5agg\n",
    ">font.serif     : Source Han Code JP, ...\n",
    ">font.sans-serif     : Source Han Code JP, ...\n",
    ">font.weight : medium # regular\n",
    ">axes.facecolor : white # background\n",
    ">axes.titlesize : 15\n",
    ">axes.labelsize : 15\n",
    ">ytick.labelsize : 12\n",
    ">xtick.labelsize : 12\n",
    "#delete ~/.matplotlib/fontList.py3k.cache\n",
    "#restart (jupyter notebook)\n",
    "'''\n",
    "\n",
    "'''\n",
    "font_manager._rebuild()\n",
    "if os.name == 'nt':\n",
    "  font_dir = font_manager.win32FontDirectory()\n",
    "else:\n",
    "  font_dir = '/prj/jpynotebooks/fonts/'\n",
    "font_path = os.path.join(font_dir, 'SourceHanCodeJP-Regular.otf')\n",
    "font = font_manager.FontProperties(fname=font_path, size=16)\n",
    "'''\n",
    "\n",
    "'''\n",
    "rcParams['font.serif'] = 'Source Han Code JP'\n",
    "rcParams['font.sans-serif'] = 'Source Han Code JP'\n",
    "rcParams['font.weight'] = 'regular' # 'medium'\n",
    "rcParams['axes.titlesize'] = 15\n",
    "rcParams['axes.labelsize'] = 15\n",
    "rcParams['ytick.labelsize'] = 12\n",
    "rcParams['xtick.labelsize'] = 12\n",
    "'''\n",
    "\n",
    "np.random.seed(0)\n",
    "x = range(5)\n",
    "y = 10 + 5 * np.random.randn(5)\n",
    "fig = plt.figure()\n",
    "ax = fig.add_subplot(111)\n",
    "#ax.set_title('日本語を指定したタイトル', fontproperties=font)\n",
    "ax.set_title('日本語を指定したタイトル')\n",
    "#ax.set_xlabel('x軸', fontproperties=font)\n",
    "ax.set_xlabel('x軸')\n",
    "ax.bar(x, y)\n",
    "#plt.legend([r'''$日本語$'''], loc='lower left') # no glyph\n",
    "plt.show()"
   ]
  },
  {
   "cell_type": "code",
   "execution_count": null,
   "metadata": {
    "collapsed": true
   },
   "outputs": [],
   "source": []
  }
 ],
 "metadata": {
  "kernelspec": {
   "display_name": "Python 3",
   "language": "python",
   "name": "python3"
  },
  "language_info": {
   "codemirror_mode": {
    "name": "ipython",
    "version": 3
   },
   "file_extension": ".py",
   "mimetype": "text/x-python",
   "name": "python",
   "nbconvert_exporter": "python",
   "pygments_lexer": "ipython3",
   "version": "3.6.2"
  }
 },
 "nbformat": 4,
 "nbformat_minor": 2
}
